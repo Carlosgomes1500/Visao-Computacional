{
  "nbformat": 4,
  "nbformat_minor": 0,
  "metadata": {
    "colab": {
      "provenance": [],
      "authorship_tag": "ABX9TyN2MJCJ9mjgrezHDi/y4tbg",
      "include_colab_link": true
    },
    "kernelspec": {
      "name": "python3",
      "display_name": "Python 3"
    },
    "language_info": {
      "name": "python"
    }
  },
  "cells": [
    {
      "cell_type": "markdown",
      "metadata": {
        "id": "view-in-github",
        "colab_type": "text"
      },
      "source": [
        "<a href=\"https://colab.research.google.com/github/Carlosgomes1500/Visao-Computacional/blob/main/2_Reconhecimento_facial.ipynb\" target=\"_parent\"><img src=\"https://colab.research.google.com/assets/colab-badge.svg\" alt=\"Open In Colab\"/></a>"
      ]
    },
    {
      "cell_type": "markdown",
      "source": [
        "#**Visão Computacional - Reconhecimento de Faces**"
      ],
      "metadata": {
        "id": "Z_Z8ZDjVlCxL"
      }
    },
    {
      "cell_type": "markdown",
      "source": [
        "1-Conecta o google drive"
      ],
      "metadata": {
        "id": "Q55g89c4lT0r"
      }
    },
    {
      "cell_type": "code",
      "execution_count": 2,
      "metadata": {
        "id": "kPq_5cffYbZC",
        "colab": {
          "base_uri": "https://localhost:8080/"
        },
        "outputId": "945519d7-7e19-45df-a332-d2ceb5b98cc7"
      },
      "outputs": [
        {
          "output_type": "stream",
          "name": "stdout",
          "text": [
            "Mounted at /content/drive\n"
          ]
        }
      ],
      "source": [
        "from google.colab import drive\n",
        "drive.mount('/content/drive')"
      ]
    },
    {
      "cell_type": "markdown",
      "source": [
        "2-importa biblioteca"
      ],
      "metadata": {
        "id": "FjYGpdDdllsz"
      }
    },
    {
      "cell_type": "code",
      "source": [
        "from PIL import Image\n",
        "import cv2\n",
        "import os\n",
        "import numpy as np\n",
        "from google.colab.patches import cv2_imshow"
      ],
      "metadata": {
        "id": "WyfmgK8llmiy"
      },
      "execution_count": 3,
      "outputs": []
    },
    {
      "cell_type": "markdown",
      "source": [
        "3-Carregar o banco de imagens"
      ],
      "metadata": {
        "id": "H2YXFmS9mJeM"
      }
    },
    {
      "cell_type": "code",
      "source": [
        "import zipfile\n",
        "path = '/content/drive/MyDrive/Cursos/Visão Computacional/Datasets/yalefaces.zip'\n",
        "zip_object = zipfile.ZipFile(file=path, mode = 'r')\n",
        "zip_object.extractall('./')\n",
        "zip_object.close()"
      ],
      "metadata": {
        "id": "STqvBqpJmMpV"
      },
      "execution_count": 4,
      "outputs": []
    },
    {
      "cell_type": "markdown",
      "source": [
        "4-Pre-processamento das imagens"
      ],
      "metadata": {
        "id": "973S9EsnXNYf"
      }
    },
    {
      "cell_type": "code",
      "source": [
        "def get_imagem_data():\n",
        "\n",
        "  #encontra o caminho completo de cada imagem da pasta de treino\n",
        "  paths = [os.path.join('/content/yalefaces/train',f) for f in os.listdir('/content/yalefaces/train')]\n",
        "\n",
        "  #Inicia lista que guarda os píxeis de cada imagem\n",
        "  faces = []\n",
        "  #Inicia lista que guarda os ids das imagens\n",
        "  ids = []\n",
        "\n",
        "  for path in paths:\n",
        "\n",
        "    #ADICIONA OS PÍXEIS DE CADA IMAGEM A LISTA DE FACES\n",
        "    #Carrega a imagem indicada pelo caminho de pach e converte para a escala de cinza\n",
        "    imagem=Image.open(path).convert('L')\n",
        "    #Converte do formato  PIL para o formato np array\n",
        "    imagem_np = np.array(imagem, 'uint8')\n",
        "    #Adiciona os píxeis de cada imagem ao final da lista faces\n",
        "    faces.append(imagem_np)\n",
        "\n",
        "    #ADICIONA A LISTA QUE GUARDA OS IDS DAS IAMGENS\n",
        "    #Quebra a string do caminho da imagem na esquerda e na direita para isolar o id da imagem\n",
        "    id = path.split(\".\")[0].split(\"/content/yalefaces/train/subject\")[1]\n",
        "    #Converte o id da imagem do tipo string para o tipo int e adicionar ao final da lista de ids\n",
        "    ids.append(int(id))\n",
        "\n",
        "  #retorna as variaveis no formato np array\n",
        "  return np.array(ids), faces\n",
        "\n",
        "\n",
        "\n"
      ],
      "metadata": {
        "id": "tYQnCYuPXtiO"
      },
      "execution_count": 5,
      "outputs": []
    },
    {
      "cell_type": "code",
      "source": [
        "ids, faces = get_imagem_data()"
      ],
      "metadata": {
        "id": "zAJMMePDcLXi"
      },
      "execution_count": 6,
      "outputs": []
    },
    {
      "cell_type": "markdown",
      "source": [
        "5-classificador LBPH: Treinamento"
      ],
      "metadata": {
        "id": "80zbPJcBHiqL"
      }
    },
    {
      "cell_type": "code",
      "source": [
        "#Criar o objeto de reconhecedor facial LBPH (Histograma de Padrão Binário Local)\n",
        "lbpg_classificador = cv2.face.LBPHFaceRecognizer_create()\n",
        "\n",
        "#Treinar o classificador LBPH usando as imagens faciais fornecidas (faces) e os rótulos correspondentes (ids)\n",
        "lbpg_classificador.train(faces, ids)\n",
        "\n",
        "#armazenará os histogramas para cada uma das imagens\n",
        "lbpg_classificador.write('lbpg_classificador.yml')"
      ],
      "metadata": {
        "id": "f70SNJISIq_x"
      },
      "execution_count": 7,
      "outputs": []
    },
    {
      "cell_type": "markdown",
      "source": [
        "6-classificador LBPH: Reconhecimento de faces"
      ],
      "metadata": {
        "id": "deEq4C_AJZnP"
      }
    },
    {
      "cell_type": "code",
      "source": [
        "#Teste do classificador LBPH com uma imagem\n",
        "\n",
        "#Criaum um novo objeto de reconhecedor facial LBPH\n",
        "lbpg_classificador_faces = cv2.face.LBPHFaceRecognizer_create()\n",
        "#Carrega o classificador treinado no novo objeto\n",
        "lbpg_classificador_faces.read('/content/lbpg_classificador.yml')\n",
        "\n",
        "#Verificasse o desenpenho do modelo atravez da previsões em uma imagem de teste.\n",
        "#Carrega uma imagem aleatoria do conjunto de dados de teste e converte para a escala de cinza\n",
        "caminho_imagem_teste = '/content/yalefaces/test/subject05.sleepy.gif'\n",
        "imagem_teste = Image.open(caminho_imagem_teste).convert('L')\n",
        "#Converte a imagem para o formato de np array\n",
        "imagem_teste_np = np.array(imagem_teste,'uint8')\n",
        "\n",
        "#Visualizando a imagem de teste primeiro antes do teste\n",
        "#cv2_imshow(imagem_teste_np)\n",
        "\n",
        "# Usando o modelo treinado para prever a identidade da pessoa na imagem de teste\n",
        "previsao = lbpg_classificador_faces.predict(imagem_teste_np)\n",
        "print(previsao)\n",
        "\n",
        "#o primeiro paramento indica o id  do rosto que foi detectado, o segundo parâmetro indica a confiança"
      ],
      "metadata": {
        "colab": {
          "base_uri": "https://localhost:8080/"
        },
        "id": "wVgqfkoHJwyr",
        "outputId": "29bb5bce-59a3-4e2c-c006-5a577501397d"
      },
      "execution_count": 8,
      "outputs": [
        {
          "output_type": "stream",
          "name": "stdout",
          "text": [
            "(5, 7.9360660167985015)\n"
          ]
        }
      ]
    },
    {
      "cell_type": "code",
      "source": [
        "# Exibindo as saídas previstas e esperadas para comparação\n",
        "saida_esperada = int(caminho_imagem_teste.split(\".\")[0].split(\"/content/yalefaces/test/subject\")[1])\n",
        "\n",
        "cv2.putText(imagem_teste_np, 'Pred.' +str(previsao[0]),(10,30),cv2.FONT_HERSHEY_COMPLEX_SMALL,1,(0,255,0))\n",
        "cv2.putText(imagem_teste_np, 'Expec.' +str(saida_esperada),(10,50),cv2.FONT_HERSHEY_COMPLEX_SMALL,1,(0,255,0))\n",
        "cv2_imshow(imagem_teste_np)"
      ],
      "metadata": {
        "colab": {
          "base_uri": "https://localhost:8080/",
          "height": 260
        },
        "id": "wXCECKAgcZRK",
        "outputId": "10e80820-61c7-4c8c-cad0-283db5cd456e"
      },
      "execution_count": 9,
      "outputs": [
        {
          "output_type": "display_data",
          "data": {
            "text/plain": [
              "<PIL.Image.Image image mode=L size=320x243>"
            ],
            "image/png": "[encoded data removed]",
            "image/jpeg": "[encoded data removed]"
          },
          "metadata": {}
        }
      ]
    },
    {
      "cell_type": "markdown",
      "source": [
        "7- Avaliação do classificador LBPH"
      ],
      "metadata": {
        "id": "6lEIUKESST0Q"
      }
    },
    {
      "cell_type": "code",
      "source": [
        "#Refaz 5-classificador LBPH: Treinamento, agora adicioando os parametros tentando melhora os resultados\n",
        "#radius: Define o raio do círculo ao redor de cada pixel que será analisado\n",
        "#neighbors: Este parâmetro determina quantos pontos (pixels vizinhos) serão amostrados no círculo definido pelo radius.\n",
        "#grid_x e grid_y: Definem o número de células nas direções horizontal e vertical na grade da imagem\n",
        "\n",
        "lbpg_classificador = cv2.face.LBPHFaceRecognizer_create(radius=4, neighbors=14,grid_x=9,grid_y=9)\n",
        "lbpg_classificador.train(faces, ids)\n",
        "lbpg_classificador.write('lbpg_classificador.yml')"
      ],
      "metadata": {
        "id": "vzHk6x5TSetX"
      },
      "execution_count": 11,
      "outputs": []
    },
    {
      "cell_type": "code",
      "source": [
        "#Criaum um novo objeto de reconhecedor facial LBPH\n",
        "lbpg_classificador_faces = cv2.face.LBPHFaceRecognizer_create()\n",
        "#Carrega o classificador treinado no novo objeto\n",
        "lbpg_classificador_faces.read('/content/lbpg_classificador.yml')"
      ],
      "metadata": {
        "id": "pmUIN18jWoRq"
      },
      "execution_count": 12,
      "outputs": []
    },
    {
      "cell_type": "code",
      "source": [
        "#Testa o modelo com o conjunto de teste\n",
        "\n",
        "#encontra o caminho completo de cada imagem da pasta de test\n",
        "paths = [os.path.join('/content/yalefaces/test',f) for f in os.listdir('/content/yalefaces/test')]\n",
        "\n",
        "#Inicia lista que guarda as previsões feitas pelo modelo\n",
        "previsoes = []\n",
        "#Inicia lista que guarda saidas esperadas do modelo\n",
        "saidas_esperadas = []\n",
        "\n",
        "for path in paths:\n",
        "\n",
        "  #REALIZA O TESTE DE CADA IMAGEM COM O MODELO TREINADO\n",
        "  #Carrega a imagem indicada pelo caminho de pach e converte para a escala de cinza\n",
        "  imagem=Image.open(path).convert('L')\n",
        "  #Converte do formato  PIL para o formato np array\n",
        "  imagem_np = np.array(imagem, 'uint8')\n",
        "  #Realiza o teste da imagem com o modelo treiando\n",
        "  previsao, _ = lbpg_classificador_faces.predict(imagem_np)\n",
        "  #Adiciona a previsão feita pelo modelo a lista guarda as previsões feitas pelo modelo\n",
        "  previsoes.append(previsao)\n",
        "\n",
        "  #ADICIONA A LISTA QUE GUARDA OS IDS DAS IAMGENS\n",
        "  #Quebra a string do caminho da imagem na esquerda e na direita para isolar a saidas esperadas da imagem\n",
        "  saida_esperada = path.split(\".\")[0].split(\"/content/yalefaces/test/subject\")[1]\n",
        "  #Converte a saidas esperadas da imagem do tipo string para o tipo int e adicionar ao final da lista de saidas_esperadas\n",
        "  saidas_esperadas.append(int(saida_esperada))\n"
      ],
      "metadata": {
        "id": "fuHgMiX-Ud5x"
      },
      "execution_count": 17,
      "outputs": []
    },
    {
      "cell_type": "code",
      "source": [
        "type(previsoes), type(saidas_esperadas)"
      ],
      "metadata": {
        "colab": {
          "base_uri": "https://localhost:8080/"
        },
        "id": "AYA0lg1OZZsl",
        "outputId": "b7149298-a6c1-426d-fef7-5d0fecdf3db3"
      },
      "execution_count": 18,
      "outputs": [
        {
          "output_type": "execute_result",
          "data": {
            "text/plain": [
              "(list, list)"
            ]
          },
          "metadata": {},
          "execution_count": 18
        }
      ]
    },
    {
      "cell_type": "code",
      "source": [
        "#Converte as saidas do formato list para np_array\n",
        "previsoes = np.array(previsoes)\n",
        "saidas_esperadas = np.array(saidas_esperadas)"
      ],
      "metadata": {
        "id": "Sx7jkxbKZOPh"
      },
      "execution_count": 19,
      "outputs": []
    },
    {
      "cell_type": "code",
      "source": [
        "type(previsoes), type(saidas_esperadas)"
      ],
      "metadata": {
        "colab": {
          "base_uri": "https://localhost:8080/"
        },
        "id": "nsv2t9psZoKh",
        "outputId": "3c45f0ff-8eb7-448f-ee28-30ab1848f7fa"
      },
      "execution_count": 20,
      "outputs": [
        {
          "output_type": "execute_result",
          "data": {
            "text/plain": [
              "(numpy.ndarray, numpy.ndarray)"
            ]
          },
          "metadata": {},
          "execution_count": 20
        }
      ]
    },
    {
      "cell_type": "code",
      "source": [
        "previsoes"
      ],
      "metadata": {
        "colab": {
          "base_uri": "https://localhost:8080/"
        },
        "id": "yRLjKrZ3ZrAq",
        "outputId": "e5f8bbb1-312f-4209-80d0-cad331a0370c"
      },
      "execution_count": 21,
      "outputs": [
        {
          "output_type": "execute_result",
          "data": {
            "text/plain": [
              "array([14, 12,  4,  3,  8,  4,  7,  5, 11,  5,  7,  1, 12, 14,  6, 13, 12,\n",
              "        4, 10,  7, 11,  4,  4,  3,  9,  4, 15, 14,  9, 13])"
            ]
          },
          "metadata": {},
          "execution_count": 21
        }
      ]
    },
    {
      "cell_type": "code",
      "source": [
        "saidas_esperadas"
      ],
      "metadata": {
        "colab": {
          "base_uri": "https://localhost:8080/"
        },
        "id": "dXqV-R7cZtFP",
        "outputId": "35558db2-a5fa-4143-82ae-c6fd71380e6e"
      },
      "execution_count": 22,
      "outputs": [
        {
          "output_type": "execute_result",
          "data": {
            "text/plain": [
              "array([ 6,  2,  8,  3,  8,  2,  7,  5, 11,  5,  9,  1, 12, 14,  6, 13, 12,\n",
              "        4, 10, 15, 11,  4,  1,  3,  7, 10, 15, 14,  9, 13])"
            ]
          },
          "metadata": {},
          "execution_count": 22
        }
      ]
    },
    {
      "cell_type": "code",
      "source": [
        "from sklearn.metrics import accuracy_score\n",
        "accuracy_score(saidas_esperadas, previsoes)"
      ],
      "metadata": {
        "colab": {
          "base_uri": "https://localhost:8080/"
        },
        "id": "ewZYntTVZw__",
        "outputId": "2e5589a1-2b68-4347-e63d-21ffc9d2c835"
      },
      "execution_count": 23,
      "outputs": [
        {
          "output_type": "execute_result",
          "data": {
            "text/plain": [
              "0.7"
            ]
          },
          "metadata": {},
          "execution_count": 23
        }
      ]
    },
    {
      "cell_type": "code",
      "source": [
        "#montando a matriz de convufão\n",
        "from sklearn.metrics import confusion_matrix\n",
        "cm = confusion_matrix(saidas_esperadas, previsoes)\n",
        "cm"
      ],
      "metadata": {
        "colab": {
          "base_uri": "https://localhost:8080/"
        },
        "id": "8e4mW4sjaAUx",
        "outputId": "cd642f67-8fd3-403f-f25b-e8a3043e040f"
      },
      "execution_count": 24,
      "outputs": [
        {
          "output_type": "execute_result",
          "data": {
            "text/plain": [
              "array([[1, 0, 0, 1, 0, 0, 0, 0, 0, 0, 0, 0, 0, 0, 0],\n",
              "       [0, 0, 0, 1, 0, 0, 0, 0, 0, 0, 0, 1, 0, 0, 0],\n",
              "       [0, 0, 2, 0, 0, 0, 0, 0, 0, 0, 0, 0, 0, 0, 0],\n",
              "       [0, 0, 0, 2, 0, 0, 0, 0, 0, 0, 0, 0, 0, 0, 0],\n",
              "       [0, 0, 0, 0, 2, 0, 0, 0, 0, 0, 0, 0, 0, 0, 0],\n",
              "       [0, 0, 0, 0, 0, 1, 0, 0, 0, 0, 0, 0, 0, 1, 0],\n",
              "       [0, 0, 0, 0, 0, 0, 1, 0, 1, 0, 0, 0, 0, 0, 0],\n",
              "       [0, 0, 0, 1, 0, 0, 0, 1, 0, 0, 0, 0, 0, 0, 0],\n",
              "       [0, 0, 0, 0, 0, 0, 1, 0, 1, 0, 0, 0, 0, 0, 0],\n",
              "       [0, 0, 0, 1, 0, 0, 0, 0, 0, 1, 0, 0, 0, 0, 0],\n",
              "       [0, 0, 0, 0, 0, 0, 0, 0, 0, 0, 2, 0, 0, 0, 0],\n",
              "       [0, 0, 0, 0, 0, 0, 0, 0, 0, 0, 0, 2, 0, 0, 0],\n",
              "       [0, 0, 0, 0, 0, 0, 0, 0, 0, 0, 0, 0, 2, 0, 0],\n",
              "       [0, 0, 0, 0, 0, 0, 0, 0, 0, 0, 0, 0, 0, 2, 0],\n",
              "       [0, 0, 0, 0, 0, 0, 1, 0, 0, 0, 0, 0, 0, 0, 1]])"
            ]
          },
          "metadata": {},
          "execution_count": 24
        }
      ]
    },
    {
      "cell_type": "code",
      "source": [
        "import seaborn\n",
        "seaborn.heatmap(cm, annot=True);"
      ],
      "metadata": {
        "colab": {
          "base_uri": "https://localhost:8080/",
          "height": 435
        },
        "id": "1kHfCeMbaJGf",
        "outputId": "a2a19fa8-6903-4966-dbe3-37c40fe949ba"
      },
      "execution_count": 25,
      "outputs": [
        {
          "output_type": "display_data",
          "data": {
            "text/plain": [
              "<Figure size 640x480 with 2 Axes>"
            ],
            "image/png": "[encoded data removed]"
          },
          "metadata": {}
        }
      ]
    }
  ]
}